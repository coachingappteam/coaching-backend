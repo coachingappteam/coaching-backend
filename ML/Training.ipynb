{
 "cells": [
  {
   "cell_type": "code",
   "execution_count": 10,
   "metadata": {},
   "outputs": [],
   "source": [
    "import numpy as np\n",
    "import pandas as pd\n",
    "import sklearn\n",
    "import seaborn as sns\n",
    "from sklearn.preprocessing import StandardScaler\n",
    "from sklearn.model_selection import train_test_split\n",
    "import matplotlib.pyplot as plt\n",
    "from scipy import stats\n",
    "%matplotlib inline\n",
    "from IPython.core.interactiveshell import InteractiveShell\n",
    "InteractiveShell.ast_node_interactivity = \"all\"\n",
    "import tensorflow as tf\n",
    "from sklearn.model_selection import train_test_split\n",
    "from tensorflow_core.estimator import inputs\n",
    "from tensorflow import feature_column\n",
    "from tensorflow.keras import layers\n",
    "from tensorflow.python.client import device_lib\n",
    "tf.debugging.set_log_device_placement(True)\n"
   ]
  },
  {
   "cell_type": "code",
   "execution_count": 11,
   "metadata": {},
   "outputs": [],
   "source": [
    "# A utility method to create a tf.data dataset from a Pandas Dataframe\n",
    "def df_to_dataset(dataframe, shuffle=True, batch_size=32):\n",
    "  dataframe = dataframe.copy()\n",
    "  labels = dataframe.pop('Label')\n",
    "  ds = tf.data.Dataset.from_tensor_slices((dict(dataframe), labels))\n",
    "  if shuffle:\n",
    "    ds = ds.shuffle(buffer_size=len(dataframe))\n",
    "  ds = ds.batch(batch_size)\n",
    "  return ds"
   ]
  },
  {
   "cell_type": "code",
   "execution_count": 37,
   "metadata": {},
   "outputs": [],
   "source": [
    "train_vector_input = pd.read_csv(\"vector_input.csv\")"
   ]
  },
  {
   "cell_type": "code",
   "execution_count": 23,
   "metadata": {},
   "outputs": [],
   "source": [
    "# train_vector_input[\"Role\"] = train_vector_input.Role.astype(str)\n",
    "# train_vector_input[\"CompetitionWeek\"] = train_vector_input.CompetitionWeek.astype(str)"
   ]
  },
  {
   "cell_type": "code",
   "execution_count": 38,
   "metadata": {},
   "outputs": [],
   "source": [
    "role = feature_column.numeric_column(\"Role\")\n",
    "\n",
    "\n",
    "competition_week = feature_column.numeric_column(\"CompetitionWeek\")\n",
    "\n",
    "\n",
    "back_reps = feature_column.numeric_column(\"BackReps\")\n",
    "\n",
    "\n",
    "back_distance = feature_column.numeric_column(\"BackDistance\")\n",
    "\n",
    "\n",
    "back_split = feature_column.numeric_column(\"BackAverageSplit\")\n",
    "\n",
    "\n",
    "breast_reps = feature_column.numeric_column(\"BreastReps\")\n",
    "\n",
    "\n",
    "breast_distance = feature_column.numeric_column(\"BreastDistance\")\n",
    "\n",
    "\n",
    "breast_split = feature_column.numeric_column(\"BreastAverageSplit\")\n",
    "\n",
    "\n",
    "butterfly_reps = feature_column.numeric_column(\"ButterflyReps\")\n",
    "\n",
    "\n",
    "butterfly_distance = feature_column.numeric_column(\"ButterflyDistance\")\n",
    "\n",
    "\n",
    "butterfly_split = feature_column.numeric_column(\"ButterflyAverageSplit\")\n",
    "\n",
    "\n",
    "drill_reps = feature_column.numeric_column(\"DrillReps\")\n",
    "\n",
    "\n",
    "drill_distance = feature_column.numeric_column(\"DrillDistance\")\n",
    "\n",
    "\n",
    "drill_split = feature_column.numeric_column(\"DrillAverageSplit\")\n",
    "\n",
    "\n",
    "free_reps = feature_column.numeric_column(\"FreeReps\")\n",
    "\n",
    "\n",
    "free_distance = feature_column.numeric_column(\"FreeDistance\")\n",
    "\n",
    "\n",
    "free_split = feature_column.numeric_column(\"FreeAverageSplit\")\n",
    "\n",
    "\n",
    "im_reps = feature_column.numeric_column(\"ImReps\")\n",
    "\n",
    "\n",
    "im_distance = feature_column.numeric_column(\"ImDistance\")\n",
    "\n",
    "\n",
    "im_split = feature_column.numeric_column(\"ImAverageSplit\")\n",
    "\n",
    "\n",
    "kick_reps = feature_column.numeric_column(\"KickReps\")\n",
    "\n",
    "\n",
    "kick_distance = feature_column.numeric_column(\"KickDistance\")\n",
    "\n",
    "\n",
    "kick_split = feature_column.numeric_column(\"KickAverageSplit\")\n",
    "\n",
    "\n",
    "pull_reps = feature_column.numeric_column(\"PullPaddleReps\")\n",
    "\n",
    "\n",
    "pull_distance = feature_column.numeric_column(\"PullPaddleDistance\")\n",
    "\n",
    "\n",
    "pull_split = feature_column.numeric_column(\"PullPaddleAverageSplit\")\n",
    "\n",
    "\n",
    "total_distance = feature_column.numeric_column(\"TotalDistance\")\n"
   ]
  },
  {
   "cell_type": "code",
   "execution_count": null,
   "metadata": {},
   "outputs": [],
   "source": [
    "train, test = train_test_split(train_vector_input, test_size=0.2)\n",
    "train, val = train_test_split(train, test_size=0.2)\n",
    "print(len(train), 'train examples')\n",
    "print(len(val), 'validation examples')\n",
    "print(len(test), 'test examples')"
   ]
  },
  {
   "cell_type": "code",
   "execution_count": null,
   "metadata": {},
   "outputs": [],
   "source": [
    "batch_size=32\n",
    "train_ds = df_to_dataset(train, batch_size=batch_size)\n",
    "val_ds = df_to_dataset(val, shuffle=False, batch_size=batch_size)\n",
    "test_ds = df_to_dataset(test, shuffle=False, batch_size=batch_size)"
   ]
  },
  {
   "cell_type": "code",
   "execution_count": 41,
   "metadata": {},
   "outputs": [],
   "source": [
    "feature_columns = [role, competition_week, back_reps, back_distance,\n",
    "                back_split, breast_reps, breast_distance, \n",
    "                breast_split, butterfly_reps, butterfly_distance,\n",
    "                butterfly_split, drill_reps, drill_distance,\n",
    "                drill_split, free_reps, free_distance,\n",
    "                free_split, im_reps, im_distance, \n",
    "                im_split, kick_reps, kick_distance,\n",
    "                kick_split, pull_reps, pull_distance,\n",
    "                pull_split, total_distance\n",
    "               ]"
   ]
  },
  {
   "cell_type": "code",
   "execution_count": 42,
   "metadata": {},
   "outputs": [],
   "source": [
    "feature_layer = tf.keras.layers.DenseFeatures(feature_columns)"
   ]
  },
  {
   "cell_type": "code",
   "execution_count": 44,
   "metadata": {},
   "outputs": [],
   "source": [
    "X_train, X_test = train_test_split(train_vector_input, test_size=0.1, random_state=101)"
   ]
  },
  {
   "cell_type": "code",
   "execution_count": null,
   "metadata": {},
   "outputs": [],
   "source": [
    "X_test.dtypes"
   ]
  },
  {
   "cell_type": "code",
   "execution_count": 47,
   "metadata": {},
   "outputs": [],
   "source": [
    "FEATURES = ['Role', 'CompetitionWeek', 'BackReps', 'BackDistance',\n",
    "       'BackAverageSplit', 'BreastReps', 'BreastDistance',\n",
    "       'BreastAverageSplit', 'ButterflyReps', 'ButterflyDistance',\n",
    "       'ButterflyAverageSplit', 'DrillReps', 'DrillDistance',\n",
    "       'DrillAverageSplit', 'FreeReps', 'FreeDistance', 'FreeAverageSplit',\n",
    "       'ImReps', 'ImDistance', 'ImAverageSplit', 'KickReps', 'KickDistance',\n",
    "       'KickAverageSplit', 'PullPaddleReps', 'PullPaddleDistance',\n",
    "       'PullPaddleAverageSplit', 'TotalDistance']\n",
    "LABEL= 'Label'\n",
    "\n",
    "def get_input_fn(data_set, num_epochs=None, n_batch = 128, shuffle=True):\n",
    "    return tf.compat.v1.estimator.inputs.pandas_input_fn(\n",
    "       x=pd.DataFrame({k: data_set[k].values for k in FEATURES}),\n",
    "       y = pd.Series(data_set[LABEL].values),\n",
    "       batch_size=n_batch,   \n",
    "       num_epochs=num_epochs,\n",
    "       shuffle=shuffle)"
   ]
  },
  {
   "cell_type": "code",
   "execution_count": null,
   "metadata": {},
   "outputs": [],
   "source": [
    "'''TensorFlow Estimator Linear Classifier Creation, training, and evaluation'''\n",
    "\n",
    "model = tf.estimator.LinearClassifier(feature_columns=feature_columns,model_dir=\"ongoing/train4\", n_classes=2)\n",
    "\n",
    "model.train(get_input_fn(X_train, num_epochs=None, n_batch = 128, shuffle=False), steps=1000)\n",
    "    \n",
    "model.evaluate(get_input_fn(X_test, num_epochs=1, n_batch = 128, shuffle=False), steps=1000)"
   ]
  },
  {
   "cell_type": "code",
   "execution_count": null,
   "metadata": {},
   "outputs": [],
   "source": [
    "model_1.evaluate(input_fn=get_input_fn(df_test_new, \n",
    "                                      num_epochs=1,\n",
    "                                      n_batch = 128,\n",
    "                                      shuffle=False),\n",
    "                                      steps=1000)"
   ]
  },
  {
   "cell_type": "code",
   "execution_count": null,
   "metadata": {
    "scrolled": true
   },
   "outputs": [],
   "source": [
    "%time\n",
    "\n",
    "'''Keras Sequential Model Creation and Training'''\n",
    "with tf.device('/GPU:0'):\n",
    "    model = tf.keras.Sequential([\n",
    "      feature_layer,\n",
    "      layers.Dense(128, activation='relu'),\n",
    "      layers.Dense(128, activation='relu'),\n",
    "      layers.Dense(1, activation='sigmoid')\n",
    "    ])\n",
    "\n",
    "    model.compile(optimizer='adam',\n",
    "                  loss='binary_crossentropy',\n",
    "                  metrics=['accuracy'])\n",
    "\n",
    "    model.fit(train_ds,\n",
    "              validation_data=val_ds,\n",
    "              epochs=5)\n",
    "    \n",
    "'''Check Keras Model Accuracy'''\n",
    "loss, accuracy = model.evaluate(test_ds)\n",
    "print(\"Accuracy\", accuracy)\n"
   ]
  },
  {
   "cell_type": "code",
   "execution_count": null,
   "metadata": {},
   "outputs": [],
   "source": [
    "'''Function to save Keras Model'''\n",
    "model.save('keras\\my_model')\n",
    "\n",
    "'''Function to load Keras Model'''\n",
    "# model = tf.keras.models.load_model('keras\\my_model')\n",
    "# model.summary()"
   ]
  }
 ],
 "metadata": {
  "kernelspec": {
   "display_name": "Python 3",
   "language": "python",
   "name": "python3"
  },
  "language_info": {
   "codemirror_mode": {
    "name": "ipython",
    "version": 3
   },
   "file_extension": ".py",
   "mimetype": "text/x-python",
   "name": "python",
   "nbconvert_exporter": "python",
   "pygments_lexer": "ipython3",
   "version": "3.7.4"
  }
 },
 "nbformat": 4,
 "nbformat_minor": 2
}
